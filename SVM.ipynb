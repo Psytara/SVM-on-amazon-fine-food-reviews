{
 "cells": [
  {
   "cell_type": "markdown",
   "metadata": {},
   "source": [
    "# [1] Amazon Fine Food Reviews Analysis\n",
    "\n",
    "\n",
    "Data Source: https://www.kaggle.com/snap/amazon-fine-food-reviews\n",
    "\n",
    "The Amazon Fine Food Reviews dataset consists of reviews of fine foods from Amazon.<br>\n",
    "\n",
    "Number of reviews: 568,454<br>\n",
    "Number of users: 256,059<br>\n",
    "Number of products: 74,258<br>\n",
    "Timespan: Oct 1999 - Oct 2012<br>\n",
    "Number of Attributes/Columns in data: 10 \n",
    "\n",
    "Attribute Information:\n",
    "\n",
    "1. Id\n",
    "2. ProductId - unique identifier for the product\n",
    "3. UserId - unqiue identifier for the user\n",
    "4. ProfileName\n",
    "5. HelpfulnessNumerator - number of users who found the review helpful\n",
    "6. HelpfulnessDenominator - number of users who indicated whether they found the review helpful or not\n",
    "7. Score - rating between 1 and 5\n",
    "8. Time - timestamp for the review\n",
    "9. Summary - brief summary of the review\n",
    "10. Text - text of the review\n",
    "\n",
    "\n",
    "#### Objective:\n",
    "Given a review, determine whether the review is positive (Rating of 4 or 5) or negative (rating of 1 or 2).\n",
    "\n",
    "<br>\n",
    "[Q] How to determine if a review is positive or negative?<br>\n",
    "<br> \n",
    "[Ans] We could use the Score/Rating. A rating of 4 or 5 could be cosnidered a positive review. A review of 1 or 2 could be considered negative. A review of 3 is nuetral and ignored. This is an approximate and proxy way of determining the polarity (positivity/negativity) of a review.\n"
   ]
  },
  {
   "cell_type": "markdown",
   "metadata": {},
   "source": [
    "## Loading the data\n",
    "\n",
    "The dataset is available in two forms\n",
    "1. .csv file\n",
    "2. SQLite Database\n",
    "\n",
    "In order to load the data, We have used the SQLITE dataset as it easier to query the data and visualise the data efficiently.\n",
    "<br> \n",
    "\n",
    "Here as we only want to get the global sentiment of the recommendations (positive or negative), we will purposefully ignore all Scores equal to 3. If the score id above 3, then the recommendation wil be set to \"positive\". Otherwise, it will be set to \"negative\"."
   ]
  },
  {
   "cell_type": "markdown",
   "metadata": {},
   "source": [
    "# Task to be performed:\n",
    "1. We need to work with 2 versions of SVM\n",
    "a. Linear kernel\n",
    "b. RBF kernel\n",
    "2. When we are working with linear kernel, if want a computationally less expensive\n",
    "algorithm we can go with ‘SGDClassifier’ with hinge loss.\n",
    "3. When we are working with ‘SGDClassifier’ with hinge loss and trying to find the AUC\n",
    "score, we might need to use CalibratedClassifierCV\n",
    "4. Similarly, like kdtree of knn, when we are working with RBF kernel it's better to reduce\n",
    "the number of dimensions.\n",
    "5. When we are working on the linear kernel with BOW or TFIDF please print the best\n",
    "feature for each of the positive and negative classes.\n",
    "6. Try to introduce some features, and work more on featurizations so that our model can\n",
    "do better."
   ]
  },
  {
   "cell_type": "code",
   "execution_count": 1,
   "metadata": {},
   "outputs": [
    {
     "name": "stderr",
     "output_type": "stream",
     "text": [
      "C:\\Users\\manish dogra\\Documents\\anaconda\\lib\\site-packages\\sklearn\\cross_validation.py:41: DeprecationWarning: This module was deprecated in version 0.18 in favor of the model_selection module into which all the refactored classes and functions are moved. Also note that the interface of the new CV iterators are different from that of this module. This module will be removed in 0.20.\n",
      "  \"This module will be removed in 0.20.\", DeprecationWarning)\n"
     ]
    }
   ],
   "source": [
    "import numpy \n",
    "import pandas as pd\n",
    "import matplotlib.pyplot as plt \n",
    "from sklearn.metrics import confusion_matrix \n",
    "from sklearn.metrics import accuracy_score\n",
    "from sklearn.cross_validation import cross_val_score\n",
    "from sklearn.cross_validation import train_test_split\n",
    "from nltk.corpus import stopwords\n",
    "from nltk.stem import PorterStemmer\n",
    "from nltk.stem.wordnet import WordNetLemmatizer\n",
    "import re \n",
    "import sqlite3"
   ]
  },
  {
   "cell_type": "code",
   "execution_count": 2,
   "metadata": {},
   "outputs": [
    {
     "data": {
      "text/plain": [
       "(525814, 10)"
      ]
     },
     "execution_count": 2,
     "metadata": {},
     "output_type": "execute_result"
    }
   ],
   "source": [
    "con = sqlite3.connect(\"./amazon-fine-food-reviews/database.sqlite\")\n",
    "data = pd.read_sql_query('''\n",
    "SELECT *\n",
    "FROM REVIEWS\n",
    "WHERE SCORE != 3''', con)\n",
    "data.shape"
   ]
  },
  {
   "cell_type": "markdown",
   "metadata": {},
   "source": [
    "# Data Cleaning"
   ]
  },
  {
   "cell_type": "code",
   "execution_count": 3,
   "metadata": {},
   "outputs": [
    {
     "data": {
      "text/plain": [
       "(525812, 10)"
      ]
     },
     "execution_count": 3,
     "metadata": {},
     "output_type": "execute_result"
    }
   ],
   "source": [
    "data = data[data.HelpfulnessNumerator <= data.HelpfulnessDenominator]\n",
    "data.shape"
   ]
  },
  {
   "cell_type": "markdown",
   "metadata": {},
   "source": [
    "<b>Observation:-</b> It was also seen that in two rows given below the value of HelpfulnessNumerator is greater than HelpfulnessDenominator which is not practically possible hence these two rows too are removed from calcualtions"
   ]
  },
  {
   "cell_type": "code",
   "execution_count": 4,
   "metadata": {},
   "outputs": [
    {
     "data": {
      "text/html": [
       "<div>\n",
       "<style>\n",
       "    .dataframe thead tr:only-child th {\n",
       "        text-align: right;\n",
       "    }\n",
       "\n",
       "    .dataframe thead th {\n",
       "        text-align: left;\n",
       "    }\n",
       "\n",
       "    .dataframe tbody tr th {\n",
       "        vertical-align: top;\n",
       "    }\n",
       "</style>\n",
       "<table border=\"1\" class=\"dataframe\">\n",
       "  <thead>\n",
       "    <tr style=\"text-align: right;\">\n",
       "      <th></th>\n",
       "      <th>Id</th>\n",
       "      <th>ProductId</th>\n",
       "      <th>UserId</th>\n",
       "      <th>ProfileName</th>\n",
       "      <th>HelpfulnessNumerator</th>\n",
       "      <th>HelpfulnessDenominator</th>\n",
       "      <th>Score</th>\n",
       "      <th>Time</th>\n",
       "      <th>Summary</th>\n",
       "      <th>Text</th>\n",
       "    </tr>\n",
       "  </thead>\n",
       "  <tbody>\n",
       "    <tr>\n",
       "      <th>138693</th>\n",
       "      <td>150511</td>\n",
       "      <td>0006641040</td>\n",
       "      <td>A1C9K534BCI9GO</td>\n",
       "      <td>Laura Purdie Salas</td>\n",
       "      <td>0</td>\n",
       "      <td>0</td>\n",
       "      <td>positive</td>\n",
       "      <td>1344211200</td>\n",
       "      <td>Charming and childlike</td>\n",
       "      <td>A charming, rhyming book that describes the ci...</td>\n",
       "    </tr>\n",
       "    <tr>\n",
       "      <th>138708</th>\n",
       "      <td>150526</td>\n",
       "      <td>0006641040</td>\n",
       "      <td>A3E9QZFE9KXH8J</td>\n",
       "      <td>R. Mitchell</td>\n",
       "      <td>11</td>\n",
       "      <td>18</td>\n",
       "      <td>negative</td>\n",
       "      <td>1129507200</td>\n",
       "      <td>awesome book poor size</td>\n",
       "      <td>This is one of the best children's books ever ...</td>\n",
       "    </tr>\n",
       "    <tr>\n",
       "      <th>138707</th>\n",
       "      <td>150525</td>\n",
       "      <td>0006641040</td>\n",
       "      <td>A2QID6VCFTY51R</td>\n",
       "      <td>Rick</td>\n",
       "      <td>1</td>\n",
       "      <td>2</td>\n",
       "      <td>positive</td>\n",
       "      <td>1025481600</td>\n",
       "      <td>In December it will be, my snowman's anniversa...</td>\n",
       "      <td>My daughter loves all the \"Really Rosie\" books...</td>\n",
       "    </tr>\n",
       "    <tr>\n",
       "      <th>138706</th>\n",
       "      <td>150524</td>\n",
       "      <td>0006641040</td>\n",
       "      <td>ACITT7DI6IDDL</td>\n",
       "      <td>shari zychinski</td>\n",
       "      <td>0</td>\n",
       "      <td>0</td>\n",
       "      <td>positive</td>\n",
       "      <td>939340800</td>\n",
       "      <td>EVERY book is educational</td>\n",
       "      <td>this witty little book makes my son laugh at l...</td>\n",
       "    </tr>\n",
       "    <tr>\n",
       "      <th>138705</th>\n",
       "      <td>150523</td>\n",
       "      <td>0006641040</td>\n",
       "      <td>A2P4F2UO0UMP8C</td>\n",
       "      <td>Elizabeth A. Curry \"Lovely Librarian\"</td>\n",
       "      <td>0</td>\n",
       "      <td>0</td>\n",
       "      <td>positive</td>\n",
       "      <td>1096675200</td>\n",
       "      <td>MMMM chicken soup....</td>\n",
       "      <td>Summary:  A young boy describes the usefulness...</td>\n",
       "    </tr>\n",
       "  </tbody>\n",
       "</table>\n",
       "</div>"
      ],
      "text/plain": [
       "            Id   ProductId          UserId  \\\n",
       "138693  150511  0006641040  A1C9K534BCI9GO   \n",
       "138708  150526  0006641040  A3E9QZFE9KXH8J   \n",
       "138707  150525  0006641040  A2QID6VCFTY51R   \n",
       "138706  150524  0006641040   ACITT7DI6IDDL   \n",
       "138705  150523  0006641040  A2P4F2UO0UMP8C   \n",
       "\n",
       "                                  ProfileName  HelpfulnessNumerator  \\\n",
       "138693                     Laura Purdie Salas                     0   \n",
       "138708                            R. Mitchell                    11   \n",
       "138707                                   Rick                     1   \n",
       "138706                        shari zychinski                     0   \n",
       "138705  Elizabeth A. Curry \"Lovely Librarian\"                     0   \n",
       "\n",
       "        HelpfulnessDenominator     Score        Time  \\\n",
       "138693                       0  positive  1344211200   \n",
       "138708                      18  negative  1129507200   \n",
       "138707                       2  positive  1025481600   \n",
       "138706                       0  positive   939340800   \n",
       "138705                       0  positive  1096675200   \n",
       "\n",
       "                                                  Summary  \\\n",
       "138693                             Charming and childlike   \n",
       "138708                             awesome book poor size   \n",
       "138707  In December it will be, my snowman's anniversa...   \n",
       "138706                          EVERY book is educational   \n",
       "138705                              MMMM chicken soup....   \n",
       "\n",
       "                                                     Text  \n",
       "138693  A charming, rhyming book that describes the ci...  \n",
       "138708  This is one of the best children's books ever ...  \n",
       "138707  My daughter loves all the \"Really Rosie\" books...  \n",
       "138706  this witty little book makes my son laugh at l...  \n",
       "138705  Summary:  A young boy describes the usefulness...  "
      ]
     },
     "execution_count": 4,
     "metadata": {},
     "output_type": "execute_result"
    }
   ],
   "source": [
    "data['Score'] = data[\"Score\"].apply(lambda x: \"positive\" if x > 3 else \"negative\")\n",
    "sorted_data = data.sort_values('ProductId',axis = 0, inplace = False, kind = 'quicksort',ascending = True)\n",
    "sorted_data.head()"
   ]
  },
  {
   "cell_type": "code",
   "execution_count": 5,
   "metadata": {},
   "outputs": [
    {
     "data": {
      "text/plain": [
       "(328770, 10)"
      ]
     },
     "execution_count": 5,
     "metadata": {},
     "output_type": "execute_result"
    }
   ],
   "source": [
    "filtered_data = sorted_data.drop_duplicates(subset = {'UserId','ProfileName','Time'} ,keep = 'first', inplace = False)\n",
    "filtered_data.shape"
   ]
  },
  {
   "cell_type": "code",
   "execution_count": 6,
   "metadata": {},
   "outputs": [
    {
     "data": {
      "text/plain": [
       "positive    275650\n",
       "negative     53120\n",
       "Name: Score, dtype: int64"
      ]
     },
     "execution_count": 6,
     "metadata": {},
     "output_type": "execute_result"
    }
   ],
   "source": [
    "filtered_data['Score'].value_counts()"
   ]
  },
  {
   "cell_type": "code",
   "execution_count": 7,
   "metadata": {
    "collapsed": true
   },
   "outputs": [],
   "source": [
    "final = filtered_data.copy()"
   ]
  },
  {
   "cell_type": "code",
   "execution_count": 8,
   "metadata": {},
   "outputs": [
    {
     "name": "stdout",
     "output_type": "stream",
     "text": [
      "[nltk_data] Downloading package stopwords to C:\\Users\\manish\n",
      "[nltk_data]     dogra\\AppData\\Roaming\\nltk_data...\n",
      "[nltk_data]   Package stopwords is already up-to-date!\n"
     ]
    },
    {
     "data": {
      "text/plain": [
       "True"
      ]
     },
     "execution_count": 8,
     "metadata": {},
     "output_type": "execute_result"
    }
   ],
   "source": [
    "import nltk\n",
    "nltk.download('stopwords')"
   ]
  },
  {
   "cell_type": "code",
   "execution_count": 9,
   "metadata": {},
   "outputs": [
    {
     "data": {
      "text/plain": [
       "'burn'"
      ]
     },
     "execution_count": 9,
     "metadata": {},
     "output_type": "execute_result"
    }
   ],
   "source": [
    "stop = set(stopwords.words(\"english\"))\n",
    "st = PorterStemmer()\n",
    "st.stem('burned')"
   ]
  },
  {
   "cell_type": "markdown",
   "metadata": {},
   "source": [
    "##  Text Preprocessing: Stemming, stop-word removal and Lemmatization.\n",
    "\n",
    "Now that we have finished deduplication our data requires some preprocessing before we go on further with analysis and making the prediction model.\n",
    "\n",
    "Hence in the Preprocessing phase we do the following in the order below:-\n",
    "\n",
    "1. Begin by removing the html tags\n",
    "2. Remove any punctuations or limited set of special characters like , or . or # etc.\n",
    "3. Check if the word is made up of english letters and is not alpha-numeric\n",
    "4. Check to see if the length of the word is greater than 2 (as it was researched that there is no adjective in 2-letters)\n",
    "5. Convert the word to lowercase\n",
    "6. Remove Stopwords\n",
    "7. Finally Snowball Stemming the word (it was obsereved to be better than Porter Stemming)<br>\n",
    "\n",
    "After which we collect the words used to describe positive and negative reviews"
   ]
  },
  {
   "cell_type": "code",
   "execution_count": 10,
   "metadata": {
    "collapsed": true
   },
   "outputs": [],
   "source": [
    "def cleanhtml(sent):\n",
    "    cleanr = re.compile('<.*?>')\n",
    "    cleaned = re.sub(cleanr,' ',sent)\n",
    "    return cleaned\n",
    "def cleanpunc(sent):\n",
    "    clean = re.sub(r'[?|!|$|#|\\'|\"|:]',r'',sent)\n",
    "    clean = re.sub(r'[,|(|)|.|\\|/]',r' ',clean)\n",
    "    return clean"
   ]
  },
  {
   "cell_type": "code",
   "execution_count": 11,
   "metadata": {
    "collapsed": true
   },
   "outputs": [],
   "source": [
    "i=0\n",
    "all_positive_reviews =[]\n",
    "all_negative_reviews = []\n",
    "final_string = []\n",
    "stem_data = \" \"\n",
    "for p in final['Text'].values:\n",
    "    filtered_sens = []#filtered word\n",
    "    p = cleanhtml(p)\n",
    "    for w in p.split():\n",
    "       # print(w)\n",
    "        punc = cleanpunc(w)\n",
    "        for s in punc.split():\n",
    "            #print(w)\n",
    "            if (s.isalpha()) & (len(s)>2):\n",
    "                if s.lower() not in stop:\n",
    "                    stem_data = (st.stem(s.lower())).encode('utf8')\n",
    "                    #can we use lemmatizer and stemming altogether??\n",
    "                    filtered_sens.append(stem_data)\n",
    "                    if (final['Score'].values)[i] == 'positive':\n",
    "                        all_positive_reviews.append(stem_data)\n",
    "                    if (final['Score'].values)[i] == 'negative':\n",
    "                        all_negative_reviews.append(stem_data)\n",
    "                else:\n",
    "                    continue\n",
    "            else:\n",
    "                continue\n",
    "    #print(filtered_sens)\n",
    "    str1 = b\" \".join(filtered_sens)\n",
    "    #print(str1)\n",
    "    final_string.append(str1)\n",
    "    i+=1"
   ]
  },
  {
   "cell_type": "code",
   "execution_count": 12,
   "metadata": {},
   "outputs": [
    {
     "data": {
      "text/html": [
       "<div>\n",
       "<style>\n",
       "    .dataframe thead tr:only-child th {\n",
       "        text-align: right;\n",
       "    }\n",
       "\n",
       "    .dataframe thead th {\n",
       "        text-align: left;\n",
       "    }\n",
       "\n",
       "    .dataframe tbody tr th {\n",
       "        vertical-align: top;\n",
       "    }\n",
       "</style>\n",
       "<table border=\"1\" class=\"dataframe\">\n",
       "  <thead>\n",
       "    <tr style=\"text-align: right;\">\n",
       "      <th></th>\n",
       "      <th>Id</th>\n",
       "      <th>ProductId</th>\n",
       "      <th>UserId</th>\n",
       "      <th>ProfileName</th>\n",
       "      <th>HelpfulnessNumerator</th>\n",
       "      <th>HelpfulnessDenominator</th>\n",
       "      <th>Score</th>\n",
       "      <th>Time</th>\n",
       "      <th>Summary</th>\n",
       "      <th>Text</th>\n",
       "      <th>CleanedText</th>\n",
       "    </tr>\n",
       "  </thead>\n",
       "  <tbody>\n",
       "    <tr>\n",
       "      <th>138693</th>\n",
       "      <td>150511</td>\n",
       "      <td>0006641040</td>\n",
       "      <td>A1C9K534BCI9GO</td>\n",
       "      <td>Laura Purdie Salas</td>\n",
       "      <td>0</td>\n",
       "      <td>0</td>\n",
       "      <td>positive</td>\n",
       "      <td>1344211200</td>\n",
       "      <td>Charming and childlike</td>\n",
       "      <td>A charming, rhyming book that describes the ci...</td>\n",
       "      <td>b'charm rhyme book describ circumst eat dont c...</td>\n",
       "    </tr>\n",
       "    <tr>\n",
       "      <th>138708</th>\n",
       "      <td>150526</td>\n",
       "      <td>0006641040</td>\n",
       "      <td>A3E9QZFE9KXH8J</td>\n",
       "      <td>R. Mitchell</td>\n",
       "      <td>11</td>\n",
       "      <td>18</td>\n",
       "      <td>negative</td>\n",
       "      <td>1129507200</td>\n",
       "      <td>awesome book poor size</td>\n",
       "      <td>This is one of the best children's books ever ...</td>\n",
       "      <td>b'one best children book ever written mini ver...</td>\n",
       "    </tr>\n",
       "    <tr>\n",
       "      <th>138707</th>\n",
       "      <td>150525</td>\n",
       "      <td>0006641040</td>\n",
       "      <td>A2QID6VCFTY51R</td>\n",
       "      <td>Rick</td>\n",
       "      <td>1</td>\n",
       "      <td>2</td>\n",
       "      <td>positive</td>\n",
       "      <td>1025481600</td>\n",
       "      <td>In December it will be, my snowman's anniversa...</td>\n",
       "      <td>My daughter loves all the \"Really Rosie\" books...</td>\n",
       "      <td>b'daughter love realli rosi book introduc real...</td>\n",
       "    </tr>\n",
       "    <tr>\n",
       "      <th>138706</th>\n",
       "      <td>150524</td>\n",
       "      <td>0006641040</td>\n",
       "      <td>ACITT7DI6IDDL</td>\n",
       "      <td>shari zychinski</td>\n",
       "      <td>0</td>\n",
       "      <td>0</td>\n",
       "      <td>positive</td>\n",
       "      <td>939340800</td>\n",
       "      <td>EVERY book is educational</td>\n",
       "      <td>this witty little book makes my son laugh at l...</td>\n",
       "      <td>b'witti littl book make son laugh loud recit c...</td>\n",
       "    </tr>\n",
       "    <tr>\n",
       "      <th>138705</th>\n",
       "      <td>150523</td>\n",
       "      <td>0006641040</td>\n",
       "      <td>A2P4F2UO0UMP8C</td>\n",
       "      <td>Elizabeth A. Curry \"Lovely Librarian\"</td>\n",
       "      <td>0</td>\n",
       "      <td>0</td>\n",
       "      <td>positive</td>\n",
       "      <td>1096675200</td>\n",
       "      <td>MMMM chicken soup....</td>\n",
       "      <td>Summary:  A young boy describes the usefulness...</td>\n",
       "      <td>b'summari young boy describ use chicken soup r...</td>\n",
       "    </tr>\n",
       "  </tbody>\n",
       "</table>\n",
       "</div>"
      ],
      "text/plain": [
       "            Id   ProductId          UserId  \\\n",
       "138693  150511  0006641040  A1C9K534BCI9GO   \n",
       "138708  150526  0006641040  A3E9QZFE9KXH8J   \n",
       "138707  150525  0006641040  A2QID6VCFTY51R   \n",
       "138706  150524  0006641040   ACITT7DI6IDDL   \n",
       "138705  150523  0006641040  A2P4F2UO0UMP8C   \n",
       "\n",
       "                                  ProfileName  HelpfulnessNumerator  \\\n",
       "138693                     Laura Purdie Salas                     0   \n",
       "138708                            R. Mitchell                    11   \n",
       "138707                                   Rick                     1   \n",
       "138706                        shari zychinski                     0   \n",
       "138705  Elizabeth A. Curry \"Lovely Librarian\"                     0   \n",
       "\n",
       "        HelpfulnessDenominator     Score        Time  \\\n",
       "138693                       0  positive  1344211200   \n",
       "138708                      18  negative  1129507200   \n",
       "138707                       2  positive  1025481600   \n",
       "138706                       0  positive   939340800   \n",
       "138705                       0  positive  1096675200   \n",
       "\n",
       "                                                  Summary  \\\n",
       "138693                             Charming and childlike   \n",
       "138708                             awesome book poor size   \n",
       "138707  In December it will be, my snowman's anniversa...   \n",
       "138706                          EVERY book is educational   \n",
       "138705                              MMMM chicken soup....   \n",
       "\n",
       "                                                     Text  \\\n",
       "138693  A charming, rhyming book that describes the ci...   \n",
       "138708  This is one of the best children's books ever ...   \n",
       "138707  My daughter loves all the \"Really Rosie\" books...   \n",
       "138706  this witty little book makes my son laugh at l...   \n",
       "138705  Summary:  A young boy describes the usefulness...   \n",
       "\n",
       "                                              CleanedText  \n",
       "138693  b'charm rhyme book describ circumst eat dont c...  \n",
       "138708  b'one best children book ever written mini ver...  \n",
       "138707  b'daughter love realli rosi book introduc real...  \n",
       "138706  b'witti littl book make son laugh loud recit c...  \n",
       "138705  b'summari young boy describ use chicken soup r...  "
      ]
     },
     "execution_count": 12,
     "metadata": {},
     "output_type": "execute_result"
    }
   ],
   "source": [
    "final['CleanedText'] = final_string\n",
    "final.head()"
   ]
  },
  {
   "cell_type": "code",
   "execution_count": 13,
   "metadata": {
    "collapsed": true
   },
   "outputs": [],
   "source": [
    "from sklearn.feature_extraction.text import TfidfTransformer\n",
    "from sklearn.feature_extraction.text import TfidfVectorizer\n",
    "from sklearn.feature_extraction.text import CountVectorizer"
   ]
  },
  {
   "cell_type": "code",
   "execution_count": 14,
   "metadata": {
    "collapsed": true
   },
   "outputs": [],
   "source": [
    "final = final.sort_values('Time',axis= 0,inplace = False , na_position = 'last',ascending = True)\n",
    "X = final['CleanedText'].values\n",
    "X = X[:100000]\n",
    "y = final['Score'].values\n",
    "y = y[:100000]"
   ]
  },
  {
   "cell_type": "code",
   "execution_count": 15,
   "metadata": {
    "collapsed": true
   },
   "outputs": [],
   "source": [
    "X_train ,X_test,y_train,y_test = train_test_split(X,y,test_size = 0.3,stratify = y)"
   ]
  },
  {
   "cell_type": "markdown",
   "metadata": {},
   "source": [
    "# SGD Classifier on Bow"
   ]
  },
  {
   "cell_type": "code",
   "execution_count": 16,
   "metadata": {
    "collapsed": true
   },
   "outputs": [],
   "source": [
    "count_vect = CountVectorizer() #in scikit-learn\n",
    "bow_train = count_vect.fit_transform(X_train)\n",
    "bow_test = count_vect.transform(X_test)"
   ]
  },
  {
   "cell_type": "code",
   "execution_count": 17,
   "metadata": {
    "collapsed": true
   },
   "outputs": [],
   "source": [
    "from sklearn.svm import SVC\n",
    "from sklearn.model_selection import GridSearchCV\n",
    "from sklearn.model_selection import RandomizedSearchCV"
   ]
  },
  {
   "cell_type": "code",
   "execution_count": 19,
   "metadata": {
    "scrolled": false
   },
   "outputs": [
    {
     "name": "stderr",
     "output_type": "stream",
     "text": [
      "C:\\Users\\manish dogra\\Documents\\anaconda\\lib\\site-packages\\sklearn\\linear_model\\stochastic_gradient.py:128: FutureWarning: max_iter and tol parameters have been added in <class 'sklearn.linear_model.stochastic_gradient.SGDClassifier'> in 0.19. If both are left unset, they default to max_iter=5 and tol=None. If tol is not None, max_iter defaults to max_iter=1000. From 0.21, default max_iter will be 1000, and default tol will be 1e-3.\n",
      "  \"and default tol will be 1e-3.\" % type(self), FutureWarning)\n"
     ]
    },
    {
     "name": "stdout",
     "output_type": "stream",
     "text": [
      "SGDClassifier(alpha=0.01, average=False, class_weight='balanced', epsilon=0.1,\n",
      "       eta0=0.0, fit_intercept=True, l1_ratio=0.15,\n",
      "       learning_rate='optimal', loss='hinge', max_iter=None, n_iter=None,\n",
      "       n_jobs=1, penalty='l2', power_t=0.5, random_state=None,\n",
      "       shuffle=True, tol=None, verbose=0, warm_start=False)\n",
      "Accuracy is 85.5533333333\n"
     ]
    }
   ],
   "source": [
    "from sklearn.linear_model import SGDClassifier\n",
    "from sklearn.svm import SVC\n",
    "alp = {'alpha' : [10**i for i in range(-4,5)]}\n",
    "gd = GridSearchCV(SGDClassifier(class_weight = 'balanced', loss = 'hinge'),alp,scoring = 'accuracy',cv = 4,n_jobs = -1,refit = True)\n",
    "gd.fit(bow_train,y_train)\n",
    "print(gd.best_estimator_)\n",
    "pred = gd.predict(bow_test)\n",
    "acc = accuracy_score(y_test,pred)\n",
    "print('Accuracy is',acc*100)"
   ]
  },
  {
   "cell_type": "code",
   "execution_count": 23,
   "metadata": {},
   "outputs": [
    {
     "name": "stderr",
     "output_type": "stream",
     "text": [
      "C:\\Users\\manish dogra\\Documents\\anaconda\\lib\\site-packages\\sklearn\\model_selection\\_search.py:761: DeprecationWarning: The grid_scores_ attribute was deprecated in version 0.18 in favor of the more elaborate cv_results_ attribute. The grid_scores_ attribute will not be available from 0.20\n",
      "  DeprecationWarning)\n"
     ]
    },
    {
     "data": {
      "image/png": "[encoded data removed]",
      "text/plain": [
       "<matplotlib.figure.Figure at 0x23f14dbd8d0>"
      ]
     },
     "metadata": {},
     "output_type": "display_data"
    }
   ],
   "source": [
    "scores = [x[1] for x in gd.grid_scores_]\n",
    "plt.figure()\n",
    "plt.title('Model')\n",
    "plt.xlabel('$\\\\alpha$ (alpha)')\n",
    "plt.ylabel('Score')\n",
    "a = [10**i for i in range(-4,5)]\n",
    "plt.plot(a,scores, label='score',color='navy')\n",
    "plt.legend()\n",
    "plt.show()"
   ]
  },
  {
   "cell_type": "code",
   "execution_count": 24,
   "metadata": {},
   "outputs": [
    {
     "name": "stdout",
     "output_type": "stream",
     "text": [
      "             precision    recall  f1-score   support\n",
      "\n",
      "   negative       0.46      0.85      0.60      3811\n",
      "   positive       0.98      0.86      0.91     26189\n",
      "\n",
      "avg / total       0.91      0.86      0.87     30000\n",
      "\n",
      "\n",
      "\n",
      "Recall for positive 0.855740959945\n",
      "Recall for negative 0.854106533718\n",
      "\n",
      "\n",
      "Precision for postive 0.975791352811\n",
      "Precision for negative 0.46281814304\n"
     ]
    }
   ],
   "source": [
    "from sklearn.metrics import recall_score , precision_score , roc_auc_score ,roc_curve\n",
    "from sklearn.metrics import classification_report\n",
    "print(classification_report(y_test,pred))\n",
    "print('\\n')\n",
    "print('Recall for positive',recall_score(y_test,pred,pos_label = 'positive'))\n",
    "print('Recall for negative',recall_score(y_test,pred,pos_label = 'negative'))\n",
    "print('\\n')\n",
    "print('Precision for postive',precision_score(y_test,pred,pos_label = 'positive'))\n",
    "print('Precision for negative',precision_score(y_test,pred,pos_label = 'negative'))"
   ]
  },
  {
   "cell_type": "markdown",
   "metadata": {},
   "source": [
    "# Top 10 important features"
   ]
  },
  {
   "cell_type": "code",
   "execution_count": 25,
   "metadata": {
    "collapsed": true
   },
   "outputs": [],
   "source": [
    "index = gd.best_estimator_.coef_.argsort()[:,:-1]"
   ]
  },
  {
   "cell_type": "code",
   "execution_count": 27,
   "metadata": {},
   "outputs": [
    {
     "name": "stdout",
     "output_type": "stream",
     "text": [
      "['disappoint' 'worst' 'terribl' ..., 'excel' 'delici' 'great']\n"
     ]
    }
   ],
   "source": [
    "import numpy as np\n",
    "top_10 = np.take(count_vect.get_feature_names(),index)\n",
    "print(top_10[0])"
   ]
  },
  {
   "cell_type": "markdown",
   "metadata": {},
   "source": [
    "<h3>SGD Classifier on BOW with hinge loss</h3>\n",
    "* Optimal alpha = 0.01\n",
    "* Accuracy = 85.5\n",
    "* Precision = 0.98(positive), 0.46(negative)\n",
    "* Recall = 0.86 ,0.85"
   ]
  },
  {
   "cell_type": "markdown",
   "metadata": {
    "collapsed": true
   },
   "source": [
    "# SGD Classifier on tfidf"
   ]
  },
  {
   "cell_type": "code",
   "execution_count": 35,
   "metadata": {},
   "outputs": [
    {
     "name": "stderr",
     "output_type": "stream",
     "text": [
      "C:\\Users\\manish dogra\\Documents\\anaconda\\lib\\site-packages\\sklearn\\linear_model\\stochastic_gradient.py:128: FutureWarning: max_iter and tol parameters have been added in <class 'sklearn.linear_model.stochastic_gradient.SGDClassifier'> in 0.19. If both are left unset, they default to max_iter=5 and tol=None. If tol is not None, max_iter defaults to max_iter=1000. From 0.21, default max_iter will be 1000, and default tol will be 1e-3.\n",
      "  \"and default tol will be 1e-3.\" % type(self), FutureWarning)\n"
     ]
    },
    {
     "name": "stdout",
     "output_type": "stream",
     "text": [
      "{'alpha': 10000}\n",
      "Accuracy is 90.2233333333\n"
     ]
    }
   ],
   "source": [
    "tfidf_vect = TfidfVectorizer()\n",
    "tfidf_train = tfidf_vect.fit_transform (X_train)\n",
    "tfidf_test = tfidf_vect.transform(X_test)\n",
    "from sklearn.preprocessing import StandardScaler\n",
    "sc = StandardScaler(with_mean = False)\n",
    "X_tr = sc.fit_transform(tfidf_train)\n",
    "X_te = sc.transform(tfidf_test)\n",
    "gd_tf = GridSearchCV(SGDClassifier(class_weight = 'balanced', loss = 'hinge'),alp,scoring = 'accuracy',cv = 5,n_jobs = -1)\n",
    "gd_tf.fit(X_tr,y_train)\n",
    "print(gd_tf.best_params_)\n",
    "pred = gd_tf.predict(X_te)\n",
    "acc = accuracy_score(y_test,pred)\n",
    "print('Accuracy is',acc*100)"
   ]
  },
  {
   "cell_type": "code",
   "execution_count": 36,
   "metadata": {},
   "outputs": [
    {
     "name": "stderr",
     "output_type": "stream",
     "text": [
      "C:\\Users\\manish dogra\\Documents\\anaconda\\lib\\site-packages\\sklearn\\model_selection\\_search.py:761: DeprecationWarning: The grid_scores_ attribute was deprecated in version 0.18 in favor of the more elaborate cv_results_ attribute. The grid_scores_ attribute will not be available from 0.20\n",
      "  DeprecationWarning)\n"
     ]
    },
    {
     "data": {
      "image/png": "[encoded data removed]",
      "text/plain": [
       "<matplotlib.figure.Figure at 0x23f16bec6a0>"
      ]
     },
     "metadata": {},
     "output_type": "display_data"
    }
   ],
   "source": [
    "scores = [x[1] for x in gd_tf.grid_scores_]\n",
    "plt.figure()\n",
    "plt.title('Model')\n",
    "plt.xlabel('$\\\\alpha$ (alpha)')\n",
    "plt.ylabel('Score')\n",
    "a = [10**i for i in range(-4,5)]\n",
    "plt.semilogx(a,scores, label='score',color='navy')\n",
    "plt.legend()\n",
    "plt.show()"
   ]
  },
  {
   "cell_type": "code",
   "execution_count": 37,
   "metadata": {
    "scrolled": false
   },
   "outputs": [
    {
     "name": "stdout",
     "output_type": "stream",
     "text": [
      "             precision    recall  f1-score   support\n",
      "\n",
      "   negative       0.69      0.42      0.52      3811\n",
      "   positive       0.92      0.97      0.95     26189\n",
      "\n",
      "avg / total       0.89      0.90      0.89     30000\n",
      "\n",
      "\n",
      "\n",
      "Recall for positive 0.972736645156\n",
      "Recall for negative 0.417738126476\n",
      "\n",
      "\n",
      "Precision for postive 0.919874341012\n",
      "Precision for negative 0.690372940156\n"
     ]
    }
   ],
   "source": [
    "print(classification_report(y_test,pred))\n",
    "print('\\n')\n",
    "print('Recall for positive',recall_score(y_test,pred,pos_label = 'positive'))\n",
    "print('Recall for negative',recall_score(y_test,pred,pos_label = 'negative'))\n",
    "print('\\n')\n",
    "print('Precision for postive',precision_score(y_test,pred,pos_label = 'positive'))\n",
    "print('Precision for negative',precision_score(y_test,pred,pos_label = 'negative'))"
   ]
  },
  {
   "cell_type": "markdown",
   "metadata": {},
   "source": [
    "# Top 10 important features"
   ]
  },
  {
   "cell_type": "code",
   "execution_count": 38,
   "metadata": {},
   "outputs": [
    {
     "name": "stdout",
     "output_type": "stream",
     "text": [
      "['disappoint' 'worst' 'wast' ..., 'best' 'love' 'great']\n"
     ]
    }
   ],
   "source": [
    "index = gd_tf.best_estimator_.coef_.argsort()[::-1]\n",
    "top_10 = np.take(tfidf_vect.get_feature_names(),index)\n",
    "print(top_10[0])"
   ]
  },
  {
   "cell_type": "markdown",
   "metadata": {},
   "source": [
    "<h3>SGD Classifier on TFIDF with hinge loss</h3>\n",
    "* Optimal alpha = 10000\n",
    "* Accuracy = 90.22\n",
    "* Precision = 0.92(positive), 0.69(negative)\n",
    "* Recall = 0.97 ,0.42"
   ]
  },
  {
   "cell_type": "markdown",
   "metadata": {
    "collapsed": true
   },
   "source": [
    "# SGD Classifier on avg w2v"
   ]
  },
  {
   "cell_type": "code",
   "execution_count": 39,
   "metadata": {
    "collapsed": true
   },
   "outputs": [],
   "source": [
    "list_of_sent_train = []\n",
    "for i in X_train:\n",
    "    sent = []\n",
    "    for word in i.split():\n",
    "        sent.append(word.decode('utf-8'))\n",
    "    list_of_sent_train.append(sent)"
   ]
  },
  {
   "cell_type": "code",
   "execution_count": 40,
   "metadata": {},
   "outputs": [
    {
     "name": "stderr",
     "output_type": "stream",
     "text": [
      "C:\\Users\\manish dogra\\Documents\\anaconda\\lib\\site-packages\\gensim\\utils.py:1197: UserWarning: detected Windows; aliasing chunkize to chunkize_serial\n",
      "  warnings.warn(\"detected Windows; aliasing chunkize to chunkize_serial\")\n"
     ]
    },
    {
     "name": "stdout",
     "output_type": "stream",
     "text": [
      "70000\n"
     ]
    }
   ],
   "source": [
    "from gensim.models import Word2Vec\n",
    "w2v_model = Word2Vec(list_of_sent_train,min_count = 5,size = 50,workers = 4)\n",
    "sent_vectors_train = []\n",
    "for sent in list_of_sent_train:\n",
    "    sent_vec = np.zeros(50)\n",
    "    cnt_word = 0\n",
    "    for word in sent:\n",
    "        try:\n",
    "            vec = w2v_model.wv[word]\n",
    "            sent_vec += vec\n",
    "            cnt_word += 1\n",
    "        except:\n",
    "            pass\n",
    "    sent_vec /= cnt_word\n",
    "    sent_vectors_train.append(sent_vec)\n",
    "print(len(sent_vectors_train))"
   ]
  },
  {
   "cell_type": "code",
   "execution_count": 41,
   "metadata": {
    "collapsed": true
   },
   "outputs": [],
   "source": [
    "list_of_sent_test = []\n",
    "for i in X_test:\n",
    "    sent = []\n",
    "    for word in i.split():\n",
    "        sent.append(word.decode('utf-8'))\n",
    "    list_of_sent_test.append(sent)"
   ]
  },
  {
   "cell_type": "code",
   "execution_count": 42,
   "metadata": {},
   "outputs": [
    {
     "name": "stdout",
     "output_type": "stream",
     "text": [
      "30000\n"
     ]
    }
   ],
   "source": [
    "import warnings\n",
    "warnings.filterwarnings(\"ignore\")\n",
    "from gensim.models import Word2Vec\n",
    "w2v_model = Word2Vec(list_of_sent_test,min_count = 5,size = 50,workers = 4)\n",
    "sent_vectors_test = []\n",
    "for sent in list_of_sent_test:\n",
    "    sent_vec = np.zeros(50)\n",
    "    cnt_word = 0\n",
    "    for word in sent:\n",
    "        try:\n",
    "            vec = w2v_model.wv[word]\n",
    "            sent_vec += vec\n",
    "            cnt_word += 1\n",
    "        except:\n",
    "            pass\n",
    "    sent_vec /= cnt_word\n",
    "    sent_vectors_test.append(sent_vec)\n",
    "print(len(sent_vectors_test))"
   ]
  },
  {
   "cell_type": "code",
   "execution_count": 43,
   "metadata": {},
   "outputs": [
    {
     "data": {
      "text/plain": [
       "(array([], dtype=int64), array([], dtype=int64))"
      ]
     },
     "execution_count": 43,
     "metadata": {},
     "output_type": "execute_result"
    }
   ],
   "source": [
    "np.where(np.isnan(sent_vectors_test))"
   ]
  },
  {
   "cell_type": "code",
   "execution_count": 44,
   "metadata": {},
   "outputs": [
    {
     "name": "stdout",
     "output_type": "stream",
     "text": [
      "SGDClassifier(alpha=10, average=False, class_weight='balanced', epsilon=0.1,\n",
      "       eta0=0.0, fit_intercept=True, l1_ratio=0.15,\n",
      "       learning_rate='optimal', loss='hinge', max_iter=None, n_iter=None,\n",
      "       n_jobs=1, penalty='l2', power_t=0.5, random_state=None,\n",
      "       shuffle=True, tol=None, verbose=0, warm_start=False)\n",
      "Accuracy is 87.2933333333\n"
     ]
    }
   ],
   "source": [
    "sc = StandardScaler()\n",
    "w2v_train = sc.fit_transform(sent_vectors_train)\n",
    "w2v_test = sc.transform(sent_vectors_test)\n",
    "gd_w2v = GridSearchCV(SGDClassifier(class_weight = 'balanced', loss = 'hinge'),alp,scoring = 'accuracy',cv = 5,n_jobs = -1)\n",
    "gd_w2v.fit(w2v_train,y_train)\n",
    "print(gd_w2v.best_estimator_)\n",
    "pred = gd_w2v.predict(w2v_test)\n",
    "acc = accuracy_score(y_test,pred)\n",
    "print('Accuracy is',acc*100)"
   ]
  },
  {
   "cell_type": "code",
   "execution_count": 45,
   "metadata": {},
   "outputs": [
    {
     "data": {
      "image/png": "[encoded data removed]",
      "text/plain": [
       "<matplotlib.figure.Figure at 0x23f301dc128>"
      ]
     },
     "metadata": {},
     "output_type": "display_data"
    }
   ],
   "source": [
    "scores = [x[1] for x in gd_w2v.grid_scores_]\n",
    "plt.figure()\n",
    "plt.title('Model')\n",
    "plt.xlabel('$\\\\alpha$ (alpha)')\n",
    "plt.ylabel('Score')\n",
    "a = [10**i for i in range(-4,5)]\n",
    "plt.semilogx(a,scores, label='score',color='navy')\n",
    "plt.legend()\n",
    "plt.show()"
   ]
  },
  {
   "cell_type": "code",
   "execution_count": 46,
   "metadata": {
    "scrolled": true
   },
   "outputs": [
    {
     "name": "stdout",
     "output_type": "stream",
     "text": [
      "             precision    recall  f1-score   support\n",
      "\n",
      "   negative       0.00      0.00      0.00      3811\n",
      "   positive       0.87      1.00      0.93     26189\n",
      "\n",
      "avg / total       0.76      0.87      0.81     30000\n",
      "\n",
      "\n",
      "\n",
      "Recall for positive 0.99996181603\n",
      "Recall for negative 0.0\n",
      "\n",
      "\n",
      "Precision for postive 0.872962432081\n",
      "Precision for negative 0.0\n"
     ]
    }
   ],
   "source": [
    "print(classification_report(y_test,pred))\n",
    "print('\\n')\n",
    "print('Recall for positive',recall_score(y_test,pred,pos_label = 'positive'))\n",
    "print('Recall for negative',recall_score(y_test,pred,pos_label = 'negative'))\n",
    "print('\\n')\n",
    "print('Precision for postive',precision_score(y_test,pred,pos_label = 'positive'))\n",
    "print('Precision for negative',precision_score(y_test,pred,pos_label = 'negative'))"
   ]
  },
  {
   "cell_type": "markdown",
   "metadata": {},
   "source": [
    "<h3>SGD Classifier on Avg w2vec with hinge loss</h3>\n",
    "* Optimal alpha = 10\n",
    "* Accuracy = 87.29\n",
    "* Precision = 0.87(positive), 0.0(negative)\n",
    "* Recall = 1.0 ,0.0"
   ]
  },
  {
   "cell_type": "markdown",
   "metadata": {},
   "source": [
    "# SGD Classifier on Tfidf w2vec"
   ]
  },
  {
   "cell_type": "code",
   "execution_count": 47,
   "metadata": {
    "collapsed": true
   },
   "outputs": [],
   "source": [
    "tf_idf_feat = tfidf_vect.get_feature_names()\n",
    "tfidf_sent_vec_train = []\n",
    "row = 0\n",
    "for sent in list_of_sent_train:\n",
    "    sent_vec = np.zeros(50)\n",
    "    weight_sum = 0\n",
    "    for word in sent:\n",
    "        try:\n",
    "            vec = w2v_model.wv[word]\n",
    "            tfidf = tfidf_train[row,tf_idf_feat.index(word)]\n",
    "            sent_vec += (vec*tfidf)\n",
    "            weight_sum += tfidf\n",
    "        except:\n",
    "            pass\n",
    "    sent_vec/= weight_sum\n",
    "    tfidf_sent_vec_train.append(sent_vec)\n",
    "    row += 1\n"
   ]
  },
  {
   "cell_type": "code",
   "execution_count": 48,
   "metadata": {
    "collapsed": true
   },
   "outputs": [],
   "source": [
    "tf_idf_feat = tfidf_vect.get_feature_names()\n",
    "tfidf_sent_vec_test = []\n",
    "row = 0\n",
    "for sent in list_of_sent_test:\n",
    "    sent_vec = np.zeros(50)\n",
    "    weight_sum = 0\n",
    "    for word in sent:\n",
    "        try:\n",
    "            vec = w2v_model.wv[word]\n",
    "            tfidf = tfidf_test[row,tf_idf_feat.index(word)]\n",
    "            sent_vec += (vec*tfidf)\n",
    "            weight_sum += tfidf\n",
    "        except:\n",
    "            pass\n",
    "    sent_vec/= weight_sum\n",
    "    tfidf_sent_vec_test.append(sent_vec)\n",
    "    row += 1"
   ]
  },
  {
   "cell_type": "code",
   "execution_count": 49,
   "metadata": {
    "scrolled": true
   },
   "outputs": [
    {
     "data": {
      "text/plain": [
       "(array([ 8797,  8797,  8797,  8797,  8797,  8797,  8797,  8797,  8797,\n",
       "         8797,  8797,  8797,  8797,  8797,  8797,  8797,  8797,  8797,\n",
       "         8797,  8797,  8797,  8797,  8797,  8797,  8797,  8797,  8797,\n",
       "         8797,  8797,  8797,  8797,  8797,  8797,  8797,  8797,  8797,\n",
       "         8797,  8797,  8797,  8797,  8797,  8797,  8797,  8797,  8797,\n",
       "         8797,  8797,  8797,  8797,  8797, 44257, 44257, 44257, 44257,\n",
       "        44257, 44257, 44257, 44257, 44257, 44257, 44257, 44257, 44257,\n",
       "        44257, 44257, 44257, 44257, 44257, 44257, 44257, 44257, 44257,\n",
       "        44257, 44257, 44257, 44257, 44257, 44257, 44257, 44257, 44257,\n",
       "        44257, 44257, 44257, 44257, 44257, 44257, 44257, 44257, 44257,\n",
       "        44257, 44257, 44257, 44257, 44257, 44257, 44257, 44257, 44257, 44257], dtype=int64),\n",
       " array([ 0,  1,  2,  3,  4,  5,  6,  7,  8,  9, 10, 11, 12, 13, 14, 15, 16,\n",
       "        17, 18, 19, 20, 21, 22, 23, 24, 25, 26, 27, 28, 29, 30, 31, 32, 33,\n",
       "        34, 35, 36, 37, 38, 39, 40, 41, 42, 43, 44, 45, 46, 47, 48, 49,  0,\n",
       "         1,  2,  3,  4,  5,  6,  7,  8,  9, 10, 11, 12, 13, 14, 15, 16, 17,\n",
       "        18, 19, 20, 21, 22, 23, 24, 25, 26, 27, 28, 29, 30, 31, 32, 33, 34,\n",
       "        35, 36, 37, 38, 39, 40, 41, 42, 43, 44, 45, 46, 47, 48, 49], dtype=int64))"
      ]
     },
     "execution_count": 49,
     "metadata": {},
     "output_type": "execute_result"
    }
   ],
   "source": [
    "np.where(np.isnan(tfidf_sent_vec_train))"
   ]
  },
  {
   "cell_type": "code",
   "execution_count": 50,
   "metadata": {
    "collapsed": true
   },
   "outputs": [],
   "source": [
    "y_tr = y_train"
   ]
  },
  {
   "cell_type": "code",
   "execution_count": 51,
   "metadata": {
    "collapsed": true
   },
   "outputs": [],
   "source": [
    "del tfidf_sent_vec_train[8797]\n",
    "y_train = np.delete(y_train,8797)\n"
   ]
  },
  {
   "cell_type": "code",
   "execution_count": 55,
   "metadata": {
    "collapsed": true
   },
   "outputs": [],
   "source": [
    "del tfidf_sent_vec_train[44256]\n",
    "y_train = np.delete(y_train,44256)"
   ]
  },
  {
   "cell_type": "code",
   "execution_count": 56,
   "metadata": {},
   "outputs": [
    {
     "name": "stdout",
     "output_type": "stream",
     "text": [
      "{'alpha': 100}\n",
      "Accuracy is 87.2966666667\n"
     ]
    }
   ],
   "source": [
    "sc =  StandardScaler()\n",
    "tfidf_w2v_train = sc.fit_transform(tfidf_sent_vec_train)\n",
    "tfidf_w2v_test = sc.transform(tfidf_sent_vec_test)\n",
    "gd_wtf = GridSearchCV(SGDClassifier(class_weight = 'balanced', loss = 'hinge'),alp,scoring = 'accuracy',cv = 10,n_jobs = -1)\n",
    "gd_wtf.fit(tfidf_w2v_train,y_train)\n",
    "print(gd_wtf.best_params_)\n",
    "pred = gd_wtf.predict(tfidf_w2v_test)\n",
    "acc = accuracy_score(y_test,pred)\n",
    "print('Accuracy is',acc*100)"
   ]
  },
  {
   "cell_type": "code",
   "execution_count": 57,
   "metadata": {},
   "outputs": [
    {
     "data": {
      "image/png": "[encoded data removed]",
      "text/plain": [
       "<matplotlib.figure.Figure at 0x23f306bb4a8>"
      ]
     },
     "metadata": {},
     "output_type": "display_data"
    }
   ],
   "source": [
    "scores = [x[1] for x in gd_wtf.grid_scores_]\n",
    "plt.figure()\n",
    "plt.title('Model')\n",
    "plt.xlabel('$\\\\alpha$ (alpha)')\n",
    "plt.ylabel('Score')\n",
    "a = [10**i for i in range(-4,5)]\n",
    "plt.semilogx(a,scores, label='score',color='navy')\n",
    "plt.legend()\n",
    "plt.show()"
   ]
  },
  {
   "cell_type": "code",
   "execution_count": 58,
   "metadata": {
    "scrolled": true
   },
   "outputs": [
    {
     "name": "stdout",
     "output_type": "stream",
     "text": [
      "             precision    recall  f1-score   support\n",
      "\n",
      "   negative       0.00      0.00      0.00      3811\n",
      "   positive       0.87      1.00      0.93     26189\n",
      "\n",
      "avg / total       0.76      0.87      0.81     30000\n",
      "\n",
      "\n",
      "\n",
      "Recall for positive 1.0\n",
      "Recall for negative 0.0\n",
      "\n",
      "\n",
      "Precision for postive 0.872966666667\n",
      "Precision for negative 0.0\n"
     ]
    }
   ],
   "source": [
    "print(classification_report(y_test,pred))\n",
    "print('\\n')\n",
    "print('Recall for positive',recall_score(y_test,pred,pos_label = 'positive'))\n",
    "print('Recall for negative',recall_score(y_test,pred,pos_label = 'negative'))\n",
    "print('\\n')\n",
    "print('Precision for postive',precision_score(y_test,pred,pos_label = 'positive'))\n",
    "print('Precision for negative',precision_score(y_test,pred,pos_label = 'negative'))"
   ]
  },
  {
   "cell_type": "markdown",
   "metadata": {},
   "source": [
    "<h3>SGD Classifier on Tfidf w2vec with hinge loss</h3>\n",
    "* Optimal alpha = 100\n",
    "* Accuracy = 87.29\n",
    "* Precision = 0.87(positive), 0.0(negative)\n",
    "* Recall = 1.0 ,0.0"
   ]
  },
  {
   "cell_type": "markdown",
   "metadata": {},
   "source": [
    "<h4>As we came to know that SGD with hinge loss performed well on tfidf so we can apply the SVC with Rbf kernel on Tfidf </h4>"
   ]
  },
  {
   "cell_type": "markdown",
   "metadata": {},
   "source": [
    "# SVC with Rbf kernel on Tfidf"
   ]
  },
  {
   "cell_type": "code",
   "execution_count": 59,
   "metadata": {},
   "outputs": [
    {
     "name": "stdout",
     "output_type": "stream",
     "text": [
      "{'C': 1, 'gamma': 0.001}\n"
     ]
    }
   ],
   "source": [
    "Cs = [0.001, 0.01, 0.1, 1, 10]\n",
    "gammas = [0.001, 0.01]\n",
    "param_grid = {'C': Cs, 'gamma' : gammas}\n",
    "grid_search = GridSearchCV(SVC(kernel='rbf',class_weight = 'balanced'), param_grid, cv=2,scoring = 'accuracy',n_jobs = -1)\n",
    "grid_search.fit(X_tr, y_tr)\n",
    "print(grid_search.best_params_)"
   ]
  },
  {
   "cell_type": "code",
   "execution_count": 60,
   "metadata": {},
   "outputs": [
    {
     "name": "stdout",
     "output_type": "stream",
     "text": [
      "Accuracy is 87.45\n"
     ]
    }
   ],
   "source": [
    "pred = grid_search.predict(X_te)\n",
    "acc = accuracy_score(y_test,pred)\n",
    "print(\"Accuracy is\",acc*100)"
   ]
  },
  {
   "cell_type": "code",
   "execution_count": 65,
   "metadata": {},
   "outputs": [
    {
     "data": {
      "image/png": "[encoded data removed]",
      "text/plain": [
       "<matplotlib.figure.Figure at 0x23f3087f128>"
      ]
     },
     "metadata": {},
     "output_type": "display_data"
    }
   ],
   "source": [
    "scores = [x[1] for x in grid_search.grid_scores_]\n",
    "scores = np.array(scores).reshape(len(gammas), len(Cs))\n",
    "\n",
    "for ind, i in enumerate(gammas):\n",
    "    plt.plot(Cs, scores[ind], label='Gamma: ' + str(i))\n",
    "plt.legend()\n",
    "plt.xlabel('C')\n",
    "plt.ylabel('Mean score')\n",
    "plt.show()"
   ]
  },
  {
   "cell_type": "code",
   "execution_count": 66,
   "metadata": {
    "scrolled": false
   },
   "outputs": [
    {
     "name": "stdout",
     "output_type": "stream",
     "text": [
      "             precision    recall  f1-score   support\n",
      "\n",
      "   negative       0.81      0.02      0.03      3811\n",
      "   positive       0.87      1.00      0.93     26189\n",
      "\n",
      "avg / total       0.87      0.87      0.82     30000\n",
      "\n",
      "\n",
      "\n",
      "Recall for positive 0.999465424415\n",
      "Recall for negative 0.015743899239\n",
      "\n",
      "\n",
      "Precision for postive 0.874657488472\n",
      "Precision for negative 0.810810810811\n"
     ]
    }
   ],
   "source": [
    "print(classification_report(y_test,pred))\n",
    "print('\\n')\n",
    "print('Recall for positive',recall_score(y_test,pred,pos_label = 'positive'))\n",
    "print('Recall for negative',recall_score(y_test,pred,pos_label = 'negative'))\n",
    "print('\\n')\n",
    "print('Precision for postive',precision_score(y_test,pred,pos_label = 'positive'))\n",
    "print('Precision for negative',precision_score(y_test,pred,pos_label = 'negative'))"
   ]
  },
  {
   "cell_type": "markdown",
   "metadata": {},
   "source": [
    "<h3>SVC on Tfidf with rbf kernel</h3>\n",
    "* Optimal C and gamma = .001\n",
    "* Accuracy = 87.45\n",
    "* Precision = 0.87(positive), 0.81(negative)\n",
    "* Recall = 1 ,0.02"
   ]
  },
  {
   "cell_type": "code",
   "execution_count": null,
   "metadata": {
    "collapsed": true
   },
   "outputs": [],
   "source": []
  }
 ],
 "metadata": {
  "kernelspec": {
   "display_name": "Python 3",
   "language": "python",
   "name": "python3"
  },
  "language_info": {
   "codemirror_mode": {
    "name": "ipython",
    "version": 3
   },
   "file_extension": ".py",
   "mimetype": "text/x-python",
   "name": "python",
   "nbconvert_exporter": "python",
   "pygments_lexer": "ipython3",
   "version": "3.6.3"
  }
 },
 "nbformat": 4,
 "nbformat_minor": 2
}
